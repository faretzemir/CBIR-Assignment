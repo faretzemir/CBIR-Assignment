{
 "cells": [
  {
   "cell_type": "code",
   "execution_count": 1,
   "id": "7995a349",
   "metadata": {},
   "outputs": [],
   "source": [
    "from PIL import Image\n",
    "import os"
   ]
  },
  {
   "cell_type": "code",
   "execution_count": 3,
   "id": "7840b9e0",
   "metadata": {},
   "outputs": [],
   "source": [
    "\n",
    "for i in range(1,21):\n",
    "    \n",
    "    im = Image.open(\"dataset/device0/device0-\"+ str(i) + \".gif\")\n",
    "    im.convert('RGB').save(\"DATASETJPG//device0//device0-\" + str(i) + \".jpg\")"
   ]
  },
  {
   "cell_type": "code",
   "execution_count": 4,
   "id": "43ea77a0",
   "metadata": {},
   "outputs": [],
   "source": [
    "for i in range(1,21):\n",
    "    \n",
    "    im = Image.open(\"dataset/deer/deer-\"+ str(i) + \".gif\")\n",
    "    im.convert('RGB').save(\"DATASETJPG//deer//deer-\" + str(i) + \".jpg\")"
   ]
  },
  {
   "cell_type": "code",
   "execution_count": 5,
   "id": "34d6f081",
   "metadata": {},
   "outputs": [],
   "source": [
    "for i in range(1,21):\n",
    "    \n",
    "    im = Image.open(\"dataset/classic/classic-\"+ str(i) + \".gif\")\n",
    "    im.convert('RGB').save(\"DATASETJPG//classic//classic-\" + str(i) + \".jpg\")"
   ]
  },
  {
   "cell_type": "code",
   "execution_count": 6,
   "id": "666ef8ec",
   "metadata": {},
   "outputs": [],
   "source": [
    "for i in range(1,21):\n",
    "    \n",
    "    im = Image.open(\"dataset/camel/camel-\"+ str(i) + \".gif\")\n",
    "    im.convert('RGB').save(\"DATASETJPG//camel//camel-\" + str(i) + \".jpg\")"
   ]
  },
  {
   "cell_type": "code",
   "execution_count": 8,
   "id": "6d15a672",
   "metadata": {},
   "outputs": [],
   "source": [
    "for i in range(1,21):\n",
    "    \n",
    "    im = Image.open(\"dataset/comma/Comma-\"+ str(i) + \".gif\")\n",
    "    im.convert('RGB').save(\"DATASETJPG/comma/Comma-\" + str(i) + \".jpg\")"
   ]
  },
  {
   "cell_type": "code",
   "execution_count": 9,
   "id": "8a585a6b",
   "metadata": {},
   "outputs": [],
   "source": [
    "for i in range(1,21):\n",
    "    \n",
    "    im = Image.open(\"dataset/device3/device3-\"+ str(i) + \".gif\")\n",
    "    im.convert('RGB').save(\"DATASETJPG/device3/device3-\" + str(i) + \".jpg\")"
   ]
  },
  {
   "cell_type": "code",
   "execution_count": 10,
   "id": "7aec2768",
   "metadata": {},
   "outputs": [],
   "source": [
    "for i in range(1,21):\n",
    "    \n",
    "    im = Image.open(\"dataset/device4/device4-\"+ str(i) + \".gif\")\n",
    "    im.convert('RGB').save(\"DATASETJPG/device4/device4-\" + str(i) + \".jpg\")"
   ]
  },
  {
   "cell_type": "code",
   "execution_count": 11,
   "id": "3ae105e6",
   "metadata": {},
   "outputs": [],
   "source": [
    "for i in range(1,21):\n",
    "    \n",
    "    im = Image.open(\"dataset/device8/device8-\"+ str(i) + \".gif\")\n",
    "    im.convert('RGB').save(\"DATASETJPG/device8/device8-\" + str(i) + \".jpg\")"
   ]
  },
  {
   "cell_type": "code",
   "execution_count": 12,
   "id": "e294837c",
   "metadata": {},
   "outputs": [],
   "source": [
    "for i in range(1,21):\n",
    "    \n",
    "    im = Image.open(\"dataset/dog/dog-\"+ str(i) + \".gif\")\n",
    "    im.convert('RGB').save(\"DATASETJPG/dog/dog-\" + str(i) + \".jpg\")"
   ]
  },
  {
   "cell_type": "code",
   "execution_count": 13,
   "id": "f1f524cb",
   "metadata": {},
   "outputs": [],
   "source": [
    "for i in range(1,21):\n",
    "    \n",
    "    im = Image.open(\"dataset/face/face-\"+ str(i) + \".gif\")\n",
    "    im.convert('RGB').save(\"DATASETJPG/face/face-\" + str(i) + \".jpg\")"
   ]
  },
  {
   "cell_type": "code",
   "execution_count": 15,
   "id": "55d8d9f2",
   "metadata": {},
   "outputs": [],
   "source": [
    "for i in range(1,21):\n",
    "    \n",
    "    im = Image.open(\"dataset/flatfish/flatfish-\"+ str(i) + \".gif\")\n",
    "    im.convert('RGB').save(\"DATASETJPG/flatfish/flatfish-\" + str(i) + \".jpg\")"
   ]
  },
  {
   "cell_type": "code",
   "execution_count": 22,
   "id": "2c1b2504",
   "metadata": {},
   "outputs": [],
   "source": [
    "for i in range(10,21):\n",
    "    \n",
    "    im = Image.open(\"dataset/fountain/fountain-\"+ str(i) + \".gif\")\n",
    "    im.convert('RGB').save(\"DATASETJPG/fountain/fountain-\" + str(i) + \".jpg\")"
   ]
  },
  {
   "cell_type": "code",
   "execution_count": 24,
   "id": "d39428ba",
   "metadata": {},
   "outputs": [],
   "source": [
    "for i in range(1,21):\n",
    "    \n",
    "    im = Image.open(\"dataset/frog/frog-\"+ str(i) + \".gif\")\n",
    "    im.convert('RGB').save(\"DATASETJPG/frog/frog-\" + str(i) + \".jpg\")"
   ]
  },
  {
   "cell_type": "code",
   "execution_count": 25,
   "id": "85739e98",
   "metadata": {},
   "outputs": [],
   "source": [
    "for i in range(1,21):\n",
    "    \n",
    "    im = Image.open(\"dataset/guitar/guitar-\"+ str(i) + \".gif\")\n",
    "    im.convert('RGB').save(\"DATASETJPG/guitar/guitar-\" + str(i) + \".jpg\")"
   ]
  },
  {
   "cell_type": "code",
   "execution_count": 26,
   "id": "9c54de9c",
   "metadata": {},
   "outputs": [],
   "source": [
    "for i in range(1,21):\n",
    "    \n",
    "    im = Image.open(\"dataset/hammer/hammer-\"+ str(i) + \".gif\")\n",
    "    im.convert('RGB').save(\"DATASETJPG/hammer/hammer-\" + str(i) + \".jpg\")"
   ]
  },
  {
   "cell_type": "code",
   "execution_count": 27,
   "id": "09f2c644",
   "metadata": {},
   "outputs": [],
   "source": [
    "for i in range(1,21):\n",
    "    \n",
    "    im = Image.open(\"dataset/hat/hat-\"+ str(i) + \".gif\")\n",
    "    im.convert('RGB').save(\"DATASETJPG/hat/hat-\" + str(i) + \".jpg\")"
   ]
  },
  {
   "cell_type": "code",
   "execution_count": 28,
   "id": "0faea32a",
   "metadata": {},
   "outputs": [],
   "source": [
    "for i in range(1,21):\n",
    "    \n",
    "    im = Image.open(\"dataset/horse/horse-\"+ str(i) + \".gif\")\n",
    "    im.convert('RGB').save(\"DATASETJPG/horse/horse-\" + str(i) + \".jpg\")"
   ]
  },
  {
   "cell_type": "code",
   "execution_count": 29,
   "id": "e2f04b0e",
   "metadata": {},
   "outputs": [],
   "source": [
    "for i in range(1,21):\n",
    "    \n",
    "    im = Image.open(\"dataset/horseshoe/horseshoe-\"+ str(i) + \".gif\")\n",
    "    im.convert('RGB').save(\"DATASETJPG/horseshoe/horseshoe-\" + str(i) + \".jpg\")"
   ]
  },
  {
   "cell_type": "code",
   "execution_count": 30,
   "id": "ee72f9e2",
   "metadata": {},
   "outputs": [],
   "source": [
    "for i in range(1,21):\n",
    "    \n",
    "    im = Image.open(\"dataset/phone/cellular_phone-\"+ str(i) + \".gif\")\n",
    "    im.convert('RGB').save(\"DATASETJPG/phone/cellular_phone-\" + str(i) + \".jpg\")"
   ]
  },
  {
   "cell_type": "code",
   "execution_count": null,
   "id": "51c3eabc",
   "metadata": {},
   "outputs": [],
   "source": []
  }
 ],
 "metadata": {
  "kernelspec": {
   "display_name": "Python 3",
   "language": "python",
   "name": "python3"
  },
  "language_info": {
   "codemirror_mode": {
    "name": "ipython",
    "version": 3
   },
   "file_extension": ".py",
   "mimetype": "text/x-python",
   "name": "python",
   "nbconvert_exporter": "python",
   "pygments_lexer": "ipython3",
   "version": "3.8.8"
  }
 },
 "nbformat": 4,
 "nbformat_minor": 5
}
